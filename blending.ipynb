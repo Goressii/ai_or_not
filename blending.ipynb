{
  "nbformat": 4,
  "nbformat_minor": 0,
  "metadata": {
    "colab": {
      "provenance": []
    },
    "kernelspec": {
      "name": "python3",
      "display_name": "Python 3"
    },
    "language_info": {
      "name": "python"
    }
  },
  "cells": [
    {
      "cell_type": "code",
      "execution_count": null,
      "metadata": {
        "id": "faMiHfcQFUfz"
      },
      "outputs": [],
      "source": [
        "import pandas as pd\n",
        "import numpy as np"
      ]
    },
    {
      "cell_type": "code",
      "source": [
        "df_resnet = pd.read_csv('submission_resnet152.csv')\n",
        "df_convnext = pd.read_csv('submission_convnext_2.csv')\n",
        "\n",
        "df_blending = pd.read_csv('test.csv')"
      ],
      "metadata": {
        "id": "p8HaOuptFgEB"
      },
      "execution_count": null,
      "outputs": []
    },
    {
      "cell_type": "code",
      "source": [
        "df_blending['target'] = 0.8 * df_resnet.target + 0.2 * df_convnext.target"
      ],
      "metadata": {
        "id": "-ZgF364cFyBh"
      },
      "execution_count": null,
      "outputs": []
    },
    {
      "cell_type": "code",
      "source": [
        "df_blending.to_csv('submission.csv', index=None)"
      ],
      "metadata": {
        "id": "IS1FQygzGArE"
      },
      "execution_count": null,
      "outputs": []
    }
  ]
}
